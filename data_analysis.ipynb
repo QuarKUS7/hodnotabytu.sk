{
 "cells": [
  {
   "cell_type": "code",
   "execution_count": 280,
   "metadata": {},
   "outputs": [],
   "source": [
    "from pipeline import PipelineDB\n",
    "import pandas as pd\n",
    "import numpy as np\n",
    "import seaborn as sns"
   ]
  },
  {
   "cell_type": "code",
   "execution_count": 281,
   "metadata": {},
   "outputs": [],
   "source": [
    "pp = PipelineDB('l')"
   ]
  },
  {
   "cell_type": "code",
   "execution_count": 282,
   "metadata": {},
   "outputs": [],
   "source": [
    "raw_data = pp.get_all_inzeraty()\n",
    "raw_data  = raw_data.replace({-1: None})\n",
    "raw_data  = raw_data.replace({'': None})"
   ]
  },
  {
   "cell_type": "code",
   "execution_count": 283,
   "metadata": {},
   "outputs": [
    {
     "data": {
      "text/plain": [
       "(3072, 27)"
      ]
     },
     "execution_count": 283,
     "metadata": {},
     "output_type": "execute_result"
    }
   ],
   "source": [
    "raw_data.shape"
   ]
  },
  {
   "cell_type": "code",
   "execution_count": 284,
   "metadata": {},
   "outputs": [],
   "source": [
    "raw_data = raw_data.drop(['id', 'zdroj', 'timestamp'], axis=1)"
   ]
  },
  {
   "cell_type": "code",
   "execution_count": 285,
   "metadata": {},
   "outputs": [],
   "source": [
    "# model zatial iba pre bratislavu\n",
    "raw_data = raw_data.drop(['okres'], axis=1)"
   ]
  },
  {
   "cell_type": "code",
   "execution_count": 286,
   "metadata": {},
   "outputs": [],
   "source": [
    "# ulicu zatial neviem vyuzit\n",
    "raw_data = raw_data.drop(['ulica'], axis=1)"
   ]
  },
  {
   "cell_type": "code",
   "execution_count": 287,
   "metadata": {},
   "outputs": [],
   "source": [
    "# cena za m2 nie vhoda feature, kedze ju neni mozne vypocitat z pozorovani\n",
    "raw_data = raw_data.drop(['cena_m2'], axis=1)"
   ]
  },
  {
   "cell_type": "code",
   "execution_count": 288,
   "metadata": {},
   "outputs": [],
   "source": [
    "# drop riadkov kde cena je neznama/dohodu\n",
    "raw_data = raw_data[raw_data['cena'].notna()]"
   ]
  },
  {
   "cell_type": "code",
   "execution_count": 289,
   "metadata": {},
   "outputs": [],
   "source": [
    "raw_data = raw_data[600000.0 > raw_data.cena]\n",
    "raw_data = raw_data[40000 < raw_data.cena]"
   ]
  },
  {
   "cell_type": "code",
   "execution_count": 290,
   "metadata": {},
   "outputs": [],
   "source": [
    "raw_data.loc[1900 > raw_data.rok_vystavby, 'rok_vystavby'] = np.NaN"
   ]
  },
  {
   "cell_type": "code",
   "execution_count": 291,
   "metadata": {},
   "outputs": [],
   "source": [
    "raw_data = raw_data[17.5 > raw_data.longitude]\n",
    "raw_data = raw_data[16.5 < raw_data.longitude]"
   ]
  },
  {
   "cell_type": "code",
   "execution_count": 292,
   "metadata": {},
   "outputs": [],
   "source": [
    "raw_data = raw_data[48.4 > raw_data.latitude]\n",
    "raw_data = raw_data[47.9 < raw_data.latitude]"
   ]
  },
  {
   "cell_type": "code",
   "execution_count": null,
   "metadata": {},
   "outputs": [],
   "source": [
    "self.data.loc[~self.data.kurenie.isin(['Ustredne', 'Lokalne']), 'kurenie'] = None"
   ]
  },
  {
   "cell_type": "code",
   "execution_count": null,
   "metadata": {},
   "outputs": [],
   "source": [
    "self.data.loc[self.data.energ_cert == 'nema', 'energ_cert'] = None"
   ]
  },
  {
   "cell_type": "code",
   "execution_count": 296,
   "metadata": {},
   "outputs": [],
   "source": [
    "raw_data.loc[~raw_data.garaz.isnull(), 'garaz'] = 1\n",
    "raw_data.loc[raw_data.garaz.isnull(), 'garaz'] = 0"
   ]
  },
  {
   "cell_type": "code",
   "execution_count": 300,
   "metadata": {},
   "outputs": [],
   "source": [
    "raw_data.loc[~raw_data.garazove_statie.isnull(), 'garazove_statie'] = 1\n",
    "raw_data.loc[raw_data.garazove_statie.isnull(), 'garazove_statie'] = 0"
   ]
  },
  {
   "cell_type": "code",
   "execution_count": 303,
   "metadata": {},
   "outputs": [
    {
     "name": "stdout",
     "output_type": "stream",
     "text": [
      "<class 'pandas.core.frame.DataFrame'>\n",
      "Int64Index: 2807 entries, 1 to 3071\n",
      "Data columns (total 21 columns):\n",
      " #   Column              Non-Null Count  Dtype  \n",
      "---  ------              --------------  -----  \n",
      " 0   mesto               2807 non-null   object \n",
      " 1   druh                2807 non-null   object \n",
      " 2   stav                2807 non-null   object \n",
      " 3   kurenie             0 non-null      object \n",
      " 4   energ_cert          635 non-null    object \n",
      " 5   uzit_plocha         2734 non-null   float64\n",
      " 6   cena                2807 non-null   float64\n",
      " 7   rok_vystavby        439 non-null    float64\n",
      " 8   pocet_nadz_podlazi  1133 non-null   float64\n",
      " 9   pocet_izieb         1435 non-null   float64\n",
      " 10  podlazie            1279 non-null   float64\n",
      " 11  latitude            2807 non-null   float64\n",
      " 12  longitude           2807 non-null   float64\n",
      " 13  verejne_parkovanie  0 non-null      object \n",
      " 14  vytah               1014 non-null   object \n",
      " 15  lodzia              7 non-null      object \n",
      " 16  balkon              11 non-null     object \n",
      " 17  garazove_statie     2807 non-null   object \n",
      " 18  garaz               2807 non-null   object \n",
      " 19  telkoint            422 non-null    object \n",
      " 20  orientacia          150 non-null    object \n",
      "dtypes: float64(8), object(13)\n",
      "memory usage: 482.5+ KB\n"
     ]
    }
   ],
   "source": [
    "raw_data.info()"
   ]
  },
  {
   "cell_type": "code",
   "execution_count": 302,
   "metadata": {},
   "outputs": [],
   "source": [
    "raw_data.loc[~raw_data.garaz.isin(['Ustredne', 'Lokalne']), 'kurenie'] = None"
   ]
  },
  {
   "cell_type": "code",
   "execution_count": 179,
   "metadata": {},
   "outputs": [],
   "source": [
    "# prilis malo nenulovych hodnot\n",
    "raw_data = raw_data.drop(['balkon', 'lodzia', 'verejne_parkovanie', 'orientacia', 'telkoint'], axis=1)"
   ]
  }
 ],
 "metadata": {
  "kernelspec": {
   "display_name": "Python 3",
   "language": "python",
   "name": "python3"
  },
  "language_info": {
   "codemirror_mode": {
    "name": "ipython",
    "version": 3
   },
   "file_extension": ".py",
   "mimetype": "text/x-python",
   "name": "python",
   "nbconvert_exporter": "python",
   "pygments_lexer": "ipython3",
   "version": "3.7.3"
  }
 },
 "nbformat": 4,
 "nbformat_minor": 4
}
